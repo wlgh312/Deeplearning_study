{
 "cells": [
  {
   "cell_type": "markdown",
   "metadata": {},
   "source": [
    "## Softmax Classification\n",
    "* Multinomial Classification\n",
    "* some Binary Classification"
   ]
  },
  {
   "cell_type": "code",
   "execution_count": 1,
   "metadata": {},
   "outputs": [],
   "source": [
    "import tensorflow as tf"
   ]
  },
  {
   "cell_type": "code",
   "execution_count": 2,
   "metadata": {},
   "outputs": [],
   "source": [
    "x_data=[[1,2,1,1], [2,1,3,2],[3,1,3,4],[4,1,5,5],[1,7,5,5],[1,2,5,6],[1,6,6,6],[1,7,7,7]]\n",
    "y_data=[[0,0,1],[0,0,1],[0,0,1],[0,1,0],[0,1,0],[0,1,0],[1,0,0],[1,0,0]]#one-hot encoding"
   ]
  },
  {
   "cell_type": "code",
   "execution_count": 3,
   "metadata": {},
   "outputs": [],
   "source": [
    "X = tf.placeholder(\"float\",[None, 4])\n",
    "Y = tf.placeholder(\"float\",[None, 3])\n",
    "nb_classes = 3#number of lables"
   ]
  },
  {
   "cell_type": "code",
   "execution_count": 4,
   "metadata": {},
   "outputs": [],
   "source": [
    "W = tf.Variable(tf.random_normal([4, nb_classes]),name = 'weight')\n",
    "b = tf.Variable(tf.random_normal([nb_classes]),name = 'bias')"
   ]
  },
  {
   "cell_type": "code",
   "execution_count": 5,
   "metadata": {},
   "outputs": [],
   "source": [
    "#softmax = exp(Logits) / reduce_sum(exp(Logits), dim) => softmax function\n",
    "#logit=score=tf.matmul(X,W)\n",
    "hypothesis = tf.nn.softmax(tf.matmul(X,W)+b)#softmax function"
   ]
  },
  {
   "cell_type": "code",
   "execution_count": 6,
   "metadata": {},
   "outputs": [],
   "source": [
    "#Cross Entropy cost/loss\n",
    "cost = tf.reduce_mean(-tf.reduce_sum(Y*tf.log(hypothesis),axis=1))\n",
    "#cost_i = tf.nn.softmax_cross_entropy_with_logits(losits=losits, labels=Y_one_hot)\n",
    "#cost = tf.reduce_mean(cost_i)\n",
    "optimizer = tf.train.GradientDescentOptimizer(learning_rate=0.1).minimize(cost)"
   ]
  },
  {
   "cell_type": "code",
   "execution_count": 10,
   "metadata": {},
   "outputs": [
    {
     "name": "stdout",
     "output_type": "stream",
     "text": [
      "0 2.7484221\n",
      "200 0.56207013\n",
      "400 0.4671896\n",
      "600 0.39200443\n",
      "800 0.32110816\n",
      "1000 0.25075907\n",
      "1200 0.22257729\n",
      "1400 0.20284337\n",
      "1600 0.18619384\n",
      "1800 0.17196998\n",
      "2000 0.15968777\n",
      "[[1.0117492e-02 9.8987412e-01 8.4066778e-06]] [1]\n"
     ]
    }
   ],
   "source": [
    "with tf.Session() as sess:\n",
    "    sess.run(tf.global_variables_initializer())\n",
    "    for step in range(2001):\n",
    "        sess.run(optimizer, feed_dict={X : x_data, Y : y_data})\n",
    "        if step % 200 ==0:\n",
    "            print(step, sess.run(cost, feed_dict={X:x_data,Y:y_data}))\n",
    "    a=sess.run(hypothesis, feed_dict={X:[[1,11,7,9]]})\n",
    "    print(a, sess.run(tf.argmax(a,1)))#one-hot encoding"
   ]
  },
  {
   "cell_type": "code",
   "execution_count": null,
   "metadata": {},
   "outputs": [],
   "source": []
  }
 ],
 "metadata": {
  "kernelspec": {
   "display_name": "Python 3",
   "language": "python",
   "name": "python3"
  },
  "language_info": {
   "codemirror_mode": {
    "name": "ipython",
    "version": 3
   },
   "file_extension": ".py",
   "mimetype": "text/x-python",
   "name": "python",
   "nbconvert_exporter": "python",
   "pygments_lexer": "ipython3",
   "version": "3.6.6"
  }
 },
 "nbformat": 4,
 "nbformat_minor": 2
}
