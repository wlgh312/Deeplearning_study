{
 "cells": [
  {
   "cell_type": "code",
   "execution_count": 1,
   "metadata": {},
   "outputs": [],
   "source": [
    "import tensorflow as tf"
   ]
  },
  {
   "cell_type": "code",
   "execution_count": 2,
   "metadata": {},
   "outputs": [],
   "source": [
    "tf.set_random_seed(777)"
   ]
  },
  {
   "cell_type": "code",
   "execution_count": 4,
   "metadata": {},
   "outputs": [
    {
     "name": "stdout",
     "output_type": "stream",
     "text": [
      "WARNING:tensorflow:From <ipython-input-4-a1a149d5a649>:2: read_data_sets (from tensorflow.contrib.learn.python.learn.datasets.mnist) is deprecated and will be removed in a future version.\n",
      "Instructions for updating:\n",
      "Please use alternatives such as official/mnist/dataset.py from tensorflow/models.\n",
      "WARNING:tensorflow:From c:\\users\\wlgh3\\venv\\tensorflow\\lib\\site-packages\\tensorflow\\contrib\\learn\\python\\learn\\datasets\\mnist.py:260: maybe_download (from tensorflow.contrib.learn.python.learn.datasets.base) is deprecated and will be removed in a future version.\n",
      "Instructions for updating:\n",
      "Please write your own downloading logic.\n",
      "WARNING:tensorflow:From c:\\users\\wlgh3\\venv\\tensorflow\\lib\\site-packages\\tensorflow\\contrib\\learn\\python\\learn\\datasets\\mnist.py:262: extract_images (from tensorflow.contrib.learn.python.learn.datasets.mnist) is deprecated and will be removed in a future version.\n",
      "Instructions for updating:\n",
      "Please use tf.data to implement this functionality.\n",
      "Extracting MNIST_Data/train-images-idx3-ubyte.gz\n",
      "WARNING:tensorflow:From c:\\users\\wlgh3\\venv\\tensorflow\\lib\\site-packages\\tensorflow\\contrib\\learn\\python\\learn\\datasets\\mnist.py:267: extract_labels (from tensorflow.contrib.learn.python.learn.datasets.mnist) is deprecated and will be removed in a future version.\n",
      "Instructions for updating:\n",
      "Please use tf.data to implement this functionality.\n",
      "Extracting MNIST_Data/train-labels-idx1-ubyte.gz\n",
      "WARNING:tensorflow:From c:\\users\\wlgh3\\venv\\tensorflow\\lib\\site-packages\\tensorflow\\contrib\\learn\\python\\learn\\datasets\\mnist.py:110: dense_to_one_hot (from tensorflow.contrib.learn.python.learn.datasets.mnist) is deprecated and will be removed in a future version.\n",
      "Instructions for updating:\n",
      "Please use tf.one_hot on tensors.\n",
      "Extracting MNIST_Data/t10k-images-idx3-ubyte.gz\n",
      "Extracting MNIST_Data/t10k-labels-idx1-ubyte.gz\n",
      "WARNING:tensorflow:From c:\\users\\wlgh3\\venv\\tensorflow\\lib\\site-packages\\tensorflow\\contrib\\learn\\python\\learn\\datasets\\mnist.py:290: DataSet.__init__ (from tensorflow.contrib.learn.python.learn.datasets.mnist) is deprecated and will be removed in a future version.\n",
      "Instructions for updating:\n",
      "Please use alternatives such as official/mnist/dataset.py from tensorflow/models.\n"
     ]
    }
   ],
   "source": [
    "from tensorflow.examples.tutorials.mnist import input_data\n",
    "mnist = input_data.read_data_sets(\"MNIST_Data/\", one_hot=True)"
   ]
  },
  {
   "cell_type": "code",
   "execution_count": 5,
   "metadata": {},
   "outputs": [],
   "source": [
    "X = tf.placeholder(tf.float32, [None, 784])\n",
    "Y = tf.placeholder(tf.float32, [None, 10])"
   ]
  },
  {
   "cell_type": "code",
   "execution_count": 7,
   "metadata": {},
   "outputs": [],
   "source": [
    "w1 = tf.Variable(tf.truncated_normal([784, 30]))#정규분포를 따르는 난수로 이루어진 784x30 행렬\n",
    "b1 = tf.Variable(tf.truncated_normal([1, 30]))\n",
    "w2 = tf.Variable(tf.truncated_normal([30, 10]))\n",
    "b2 = tf.Variable(tf.truncated_normal([1, 10]))"
   ]
  },
  {
   "cell_type": "code",
   "execution_count": 8,
   "metadata": {},
   "outputs": [],
   "source": [
    "def sigma(x):\n",
    "    #sigmoid function\n",
    "    return tf.div(tf.constant(1.0), tf.add(tf.constant(1.0), tf.exp(-x)))"
   ]
  },
  {
   "cell_type": "code",
   "execution_count": 9,
   "metadata": {},
   "outputs": [],
   "source": [
    "def sigma_prime(x):\n",
    "    #derivative of the sigmoid function\n",
    "    return sigma(x)*(1-sigma(x))"
   ]
  },
  {
   "cell_type": "code",
   "execution_count": 10,
   "metadata": {},
   "outputs": [],
   "source": [
    "#Forward prop\n",
    "l1 = tf.add(tf.matmul(X, w1), b1)\n",
    "a1 = sigma(l1)\n",
    "l2 = tf.add(tf.matmul(a1, w2), b2)\n",
    "y_pred = sigma(l2)"
   ]
  },
  {
   "cell_type": "code",
   "execution_count": 11,
   "metadata": {},
   "outputs": [],
   "source": [
    "#diff\n",
    "assert y_pred.shape.as_list() == Y.shape.as_list()#True가 아니면 오류\n",
    "diff = (y_pred-Y)"
   ]
  },
  {
   "cell_type": "code",
   "execution_count": 12,
   "metadata": {},
   "outputs": [],
   "source": [
    "#Back prop (chain rule)\n",
    "d_l2 = diff*sigma_prime(l2)\n",
    "d_b2 = d_l2\n",
    "d_w2 = tf.matmul(tf.transpose(a1), d_l2)"
   ]
  },
  {
   "cell_type": "code",
   "execution_count": 13,
   "metadata": {},
   "outputs": [],
   "source": [
    "d_a1 = tf.matmul(d_l2, tf.transpose(w2))\n",
    "d_l1 = d_a1 *sigma_prime(l1)\n",
    "d_b1 = d_l1\n",
    "d_w1 = tf.matmul(tf.transpose(X), d_l1)"
   ]
  },
  {
   "cell_type": "code",
   "execution_count": 14,
   "metadata": {},
   "outputs": [],
   "source": [
    "#Updating network using gradients\n",
    "learning_rate = 0.5\n",
    "step = [\n",
    "    tf.assign(w1, w1 - learning_rate * d_w1),\n",
    "    tf.assign(b1, b1 - learning_rate *\n",
    "              tf.reduce_mean(d_b1, reduction_indices=[0])),\n",
    "    tf.assign(w2, w2 - learning_rate * d_w2),\n",
    "    tf.assign(b2, b2 - learning_rate *\n",
    "              tf.reduce_mean(d_b2, reduction_indices=[0]))\n",
    "]"
   ]
  },
  {
   "cell_type": "code",
   "execution_count": 15,
   "metadata": {},
   "outputs": [
    {
     "name": "stdout",
     "output_type": "stream",
     "text": [
      "81.0\n",
      "825.0\n",
      "871.0\n",
      "888.0\n",
      "894.0\n",
      "904.0\n",
      "914.0\n",
      "910.0\n",
      "915.0\n",
      "930.0\n"
     ]
    }
   ],
   "source": [
    "#Running and testing the training process\n",
    "acct_mat = tf.equal(tf.argmax(y_pred, 1), tf.argmax(Y, 1))\n",
    "acct_res = tf.reduce_sum(tf.cast(acct_mat, tf.float32))\n",
    "\n",
    "sess = tf.InteractiveSession()\n",
    "sess.run(tf.global_variables_initializer())\n",
    "\n",
    "for i in range(10000):\n",
    "    batch_xs, batch_ys = mnist.train.next_batch(10)\n",
    "    sess.run(step, feed_dict={X: batch_xs,\n",
    "                              Y: batch_ys})\n",
    "    if i % 1000 == 0:\n",
    "        res = sess.run(acct_res, feed_dict={X: mnist.test.images[:1000],\n",
    "                                            Y: mnist.test.labels[:1000]})\n",
    "        print(res)"
   ]
  },
  {
   "cell_type": "code",
   "execution_count": 16,
   "metadata": {},
   "outputs": [],
   "source": [
    "#Automatic differentiation in TensorFlow\n",
    "cost = diff * diff\n",
    "step = tf.train.GradientDescentOptimizer(0.1).minimize(cost)"
   ]
  },
  {
   "cell_type": "code",
   "execution_count": null,
   "metadata": {},
   "outputs": [],
   "source": []
  }
 ],
 "metadata": {
  "kernelspec": {
   "display_name": "Python 3",
   "language": "python",
   "name": "python3"
  },
  "language_info": {
   "codemirror_mode": {
    "name": "ipython",
    "version": 3
   },
   "file_extension": ".py",
   "mimetype": "text/x-python",
   "name": "python",
   "nbconvert_exporter": "python",
   "pygments_lexer": "ipython3",
   "version": "3.6.6"
  }
 },
 "nbformat": 4,
 "nbformat_minor": 2
}
