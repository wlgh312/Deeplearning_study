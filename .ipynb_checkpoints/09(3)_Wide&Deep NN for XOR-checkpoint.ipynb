{
 "cells": [
  {
   "cell_type": "code",
   "execution_count": 1,
   "metadata": {},
   "outputs": [],
   "source": [
    "import tensorflow as tf\n",
    "import numpy as np"
   ]
  },
  {
   "cell_type": "code",
   "execution_count": 3,
   "metadata": {},
   "outputs": [],
   "source": [
    "tf.set_random_seed(777)"
   ]
  },
  {
   "cell_type": "code",
   "execution_count": 5,
   "metadata": {},
   "outputs": [],
   "source": [
    "x_data = np.array([[0, 0], [0, 1], [1, 0], [1, 1]], dtype=np.float32)\n",
    "y_data = np.array([[0], [1], [1], [0]], dtype=np.float32)"
   ]
  },
  {
   "cell_type": "code",
   "execution_count": 6,
   "metadata": {},
   "outputs": [],
   "source": [
    "X = tf.placeholder(tf.float32, [None, 2])\n",
    "Y = tf.placeholder(tf.float32, [None, 1])"
   ]
  },
  {
   "cell_type": "code",
   "execution_count": 8,
   "metadata": {},
   "outputs": [],
   "source": [
    "W1 = tf.Variable(tf.random_normal([2, 10]), name='weight1')\n",
    "b1 = tf.Variable(tf.random_normal([10]), name='bias1')\n",
    "layer1 = tf.sigmoid(tf.matmul(X, W1) + b1)"
   ]
  },
  {
   "cell_type": "code",
   "execution_count": 9,
   "metadata": {},
   "outputs": [],
   "source": [
    "W2 = tf.Variable(tf.random_normal([10, 10]), name='weight2')\n",
    "b2 = tf.Variable(tf.random_normal([10]), name='bias2')\n",
    "layer2 = tf.sigmoid(tf.matmul(layer1, W2) + b2)"
   ]
  },
  {
   "cell_type": "code",
   "execution_count": 10,
   "metadata": {},
   "outputs": [],
   "source": [
    "W3 = tf.Variable(tf.random_normal([10, 10]), name='weight3')\n",
    "b3 = tf.Variable(tf.random_normal([10]), name='bias3')\n",
    "layer3 = tf.sigmoid(tf.matmul(layer2, W3) + b3)"
   ]
  },
  {
   "cell_type": "code",
   "execution_count": 11,
   "metadata": {},
   "outputs": [],
   "source": [
    "W4 = tf.Variable(tf.random_normal([10, 1]), name='weight4')\n",
    "b4 = tf.Variable(tf.random_normal([1]), name='bias4')\n",
    "hypothesis = tf.sigmoid(tf.matmul(layer3, W4) + b4)"
   ]
  },
  {
   "cell_type": "code",
   "execution_count": 12,
   "metadata": {},
   "outputs": [],
   "source": [
    "cost = -tf.reduce_mean(Y*tf.log(hypothesis) + (1 - Y)*tf.log(1 - hypothesis))\n",
    "train = tf.train.GradientDescentOptimizer(learning_rate=0.1).minimize(cost)"
   ]
  },
  {
   "cell_type": "code",
   "execution_count": 13,
   "metadata": {},
   "outputs": [],
   "source": [
    "predicted = tf.cast(hypothesis > 0.5, dtype=tf.float32)\n",
    "accuracy = tf.reduce_mean(tf.cast(tf.equal(predicted, Y), dtype=tf.float32))"
   ]
  },
  {
   "cell_type": "code",
   "execution_count": 14,
   "metadata": {},
   "outputs": [
    {
     "name": "stdout",
     "output_type": "stream",
     "text": [
      "0 0.7063499\n",
      "100 0.6922674\n",
      "200 0.6867784\n",
      "300 0.68121797\n",
      "400 0.67481923\n",
      "500 0.66676867\n",
      "600 0.6561042\n",
      "700 0.64173925\n",
      "800 0.6226688\n",
      "900 0.59817743\n",
      "1000 0.5674276\n",
      "1100 0.5276711\n",
      "1200 0.4703751\n",
      "1300 0.3807663\n",
      "1400 0.26750925\n",
      "1500 0.17114048\n",
      "1600 0.10991906\n",
      "1700 0.07468476\n",
      "1800 0.05397602\n",
      "1900 0.041088995\n",
      "2000 0.032584164\n",
      "2100 0.026677009\n",
      "2200 0.022395745\n",
      "2300 0.019182319\n",
      "2400 0.01669935\n",
      "2500 0.014733915\n",
      "2600 0.013146048\n",
      "2700 0.01184085\n",
      "2800 0.010751884\n",
      "2900 0.009831551\n",
      "3000 0.009044891\n",
      "3100 0.008365827\n",
      "3200 0.0077743847\n",
      "3300 0.0072552892\n",
      "3400 0.0067964536\n",
      "3500 0.0063882545\n",
      "3600 0.006023072\n",
      "3700 0.005694609\n",
      "3800 0.005397781\n",
      "3900 0.005128407\n",
      "4000 0.0048829024\n",
      "4100 0.0046583894\n",
      "4200 0.004452309\n",
      "4300 0.0042625545\n",
      "4400 0.0040873354\n",
      "4500 0.0039250436\n",
      "4600 0.0037744313\n",
      "4700 0.0036342214\n",
      "4800 0.0035034677\n",
      "4900 0.0033812094\n",
      "5000 0.0032667404\n",
      "5100 0.0031592958\n",
      "5200 0.00305829\n",
      "5300 0.002963184\n",
      "5400 0.0028734666\n",
      "5500 0.002788719\n",
      "5600 0.002708566\n",
      "5700 0.0026326026\n",
      "5800 0.0025605892\n",
      "5900 0.0024922115\n",
      "6000 0.0024271097\n",
      "6100 0.002365209\n",
      "6200 0.002306165\n",
      "6300 0.0022498574\n",
      "6400 0.0021961369\n",
      "6500 0.0021447488\n",
      "6600 0.0020955736\n",
      "6700 0.0020484612\n",
      "6800 0.0020033522\n",
      "6900 0.0019601115\n",
      "7000 0.0019185747\n",
      "7100 0.001878652\n",
      "7200 0.0018402839\n",
      "7300 0.00180335\n",
      "7400 0.001767821\n",
      "7500 0.0017335619\n",
      "7600 0.0017005579\n",
      "7700 0.0016687342\n",
      "7800 0.0016380311\n",
      "7900 0.0016083587\n",
      "8000 0.0015797021\n",
      "8100 0.0015519866\n",
      "8200 0.0015251823\n",
      "8300 0.0014992293\n",
      "8400 0.0014741425\n",
      "8500 0.0014498028\n",
      "8600 0.0014262245\n",
      "8700 0.001403393\n",
      "8800 0.0013811886\n",
      "8900 0.0013596712\n",
      "9000 0.0013388109\n",
      "9100 0.0013185329\n",
      "9200 0.0012988222\n",
      "9300 0.001279664\n",
      "9400 0.0012609987\n",
      "9500 0.0012429005\n",
      "9600 0.0012252801\n",
      "9700 0.0012081077\n",
      "9800 0.0011913831\n",
      "9900 0.0011751363\n",
      "10000 0.0011592775\n",
      "\n",
      "Hypothesis : [[9.2396111e-04]\n",
      " [9.9870682e-01]\n",
      " [9.9872845e-01]\n",
      " [1.1451385e-03]] \n",
      "Predicted : [[0.]\n",
      " [1.]\n",
      " [1.]\n",
      " [0.]] \n",
      "Accuracy : 1.0\n"
     ]
    }
   ],
   "source": [
    "with tf.Session() as sess:\n",
    "    sess.run(tf.global_variables_initializer())\n",
    "    for step in range(10001):\n",
    "        _, cost_val = sess.run([train, cost], feed_dict={X:x_data, Y:y_data})\n",
    "        if step % 100 == 0:\n",
    "            print(step, cost_val)\n",
    "    h, p, a = sess.run([hypothesis, predicted, accuracy], feed_dict={X:x_data, Y:y_data})\n",
    "    print(f\"\\nHypothesis : {h} \\nPredicted : {p} \\nAccuracy : {a}\")"
   ]
  },
  {
   "cell_type": "code",
   "execution_count": null,
   "metadata": {},
   "outputs": [],
   "source": []
  }
 ],
 "metadata": {
  "kernelspec": {
   "display_name": "Python 3",
   "language": "python",
   "name": "python3"
  },
  "language_info": {
   "codemirror_mode": {
    "name": "ipython",
    "version": 3
   },
   "file_extension": ".py",
   "mimetype": "text/x-python",
   "name": "python",
   "nbconvert_exporter": "python",
   "pygments_lexer": "ipython3",
   "version": "3.6.6"
  }
 },
 "nbformat": 4,
 "nbformat_minor": 2
}
