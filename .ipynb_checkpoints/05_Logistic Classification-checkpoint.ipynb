{
 "cells": [
  {
   "cell_type": "code",
   "execution_count": 1,
   "metadata": {},
   "outputs": [],
   "source": [
    "import tensorflow as tf"
   ]
  },
  {
   "cell_type": "code",
   "execution_count": 2,
   "metadata": {},
   "outputs": [],
   "source": [
    "x_data = [[1, 2], [2, 3], [3, 1], [4, 3], [5, 3], [6, 2]]\n",
    "y_data = [[0], [0], [0], [1], [1], [1]]"
   ]
  },
  {
   "cell_type": "code",
   "execution_count": 3,
   "metadata": {},
   "outputs": [],
   "source": [
    "X = tf.placeholder(tf.float32, shape = [None, 2])\n",
    "Y = tf.placeholder(tf.float32, shape = [None, 1])"
   ]
  },
  {
   "cell_type": "code",
   "execution_count": 4,
   "metadata": {},
   "outputs": [],
   "source": [
    "W = tf.Variable(tf.random_normal([2, 1]), name = 'weight')\n",
    "b = tf.Variable(tf.random_normal([1]), name = 'bias')"
   ]
  },
  {
   "cell_type": "markdown",
   "metadata": {},
   "source": [
    "### - Logistic Regression에서의 Hypothesis\n",
    "$$ H(X) = \\frac{1}{1+e^{-W^{T}X}}$$"
   ]
  },
  {
   "cell_type": "code",
   "execution_count": 5,
   "metadata": {},
   "outputs": [],
   "source": [
    "hypothesis = tf.sigmoid(tf.matmul(X, W)+b)"
   ]
  },
  {
   "cell_type": "markdown",
   "metadata": {},
   "source": [
    "### - Logistic Regression에서의 Cost function\n",
    "$$ cost(W) = -\\frac{1}{m}\\sum y\\log (H(x))+(1-y)\\log(1-H(x))$$"
   ]
  },
  {
   "cell_type": "code",
   "execution_count": 6,
   "metadata": {},
   "outputs": [],
   "source": [
    "cost = -tf.reduce_mean(Y*tf.log(hypothesis)+(1-Y)*tf.log(1-hypothesis))"
   ]
  },
  {
   "cell_type": "code",
   "execution_count": 7,
   "metadata": {},
   "outputs": [],
   "source": [
    "train = tf.train.GradientDescentOptimizer(learning_rate=0.01).minimize(cost)"
   ]
  },
  {
   "cell_type": "code",
   "execution_count": 8,
   "metadata": {},
   "outputs": [],
   "source": [
    "#Accuracy computation\n",
    "#tf.float로 cast하면 true=1.0, false=0.0으로 변환\n",
    "predicted = tf.cast(hypothesis > 0.5, dtype = tf.float32)#hypothesis가 0.5보다 크면 true 아니면 false\n",
    "accuracy = tf.reduce_mean(tf.cast(tf.equal(predicted, Y), dtype=tf.float32))#predicted=Y면 1, 아니면 0"
   ]
  },
  {
   "cell_type": "code",
   "execution_count": 9,
   "metadata": {},
   "outputs": [
    {
     "name": "stdout",
     "output_type": "stream",
     "text": [
      "0 2.9699357\n",
      "200 0.68206096\n",
      "400 0.65729064\n",
      "600 0.6334028\n",
      "800 0.6103639\n",
      "1000 0.588163\n",
      "1200 0.5667964\n",
      "1400 0.54626155\n",
      "1600 0.52655536\n",
      "1800 0.5076713\n",
      "2000 0.48959973\n",
      "2200 0.47232714\n",
      "2400 0.4558363\n",
      "2600 0.44010708\n",
      "2800 0.42511615\n",
      "3000 0.41083848\n",
      "3200 0.397247\n",
      "3400 0.38431367\n",
      "3600 0.37200963\n",
      "3800 0.360306\n",
      "4000 0.3491737\n",
      "4200 0.3385841\n",
      "4400 0.32850918\n",
      "4600 0.31892192\n",
      "4800 0.3097956\n",
      "5000 0.30110514\n",
      "5200 0.29282644\n",
      "5400 0.2849362\n",
      "5600 0.2774126\n",
      "5800 0.27023494\n",
      "6000 0.26338354\n",
      "6200 0.25683984\n",
      "6400 0.25058654\n",
      "6600 0.24460699\n",
      "6800 0.23888583\n",
      "7000 0.23340864\n",
      "7200 0.22816165\n",
      "7400 0.2231323\n",
      "7600 0.2183084\n",
      "7800 0.21367884\n",
      "8000 0.20923309\n",
      "8200 0.2049613\n",
      "8400 0.20085418\n",
      "8600 0.19690323\n",
      "8800 0.19310011\n",
      "9000 0.18943734\n",
      "9200 0.18590766\n",
      "9400 0.18250453\n",
      "9600 0.17922144\n",
      "9800 0.17605257\n",
      "10000 0.17299235\n",
      "\n",
      "Hypothesis:  [[0.0412048 ]\n",
      " [0.17098328]\n",
      " [0.35157713]\n",
      " [0.7607805 ]\n",
      " [0.925861  ]\n",
      " [0.9756832 ]] \n",
      "Correct (Y):  [[0.]\n",
      " [0.]\n",
      " [0.]\n",
      " [1.]\n",
      " [1.]\n",
      " [1.]] \n",
      "Accuracy:  1.0\n"
     ]
    }
   ],
   "source": [
    "with tf.Session() as sess:\n",
    "    sess.run(tf.global_variables_initializer())\n",
    "    for step in range(10001):\n",
    "        cost_val, _ = sess.run([cost, train], feed_dict={X: x_data, Y: y_data})\n",
    "        if step % 200 ==0:\n",
    "            print(step, cost_val)\n",
    "    h, c, a = sess.run([hypothesis, predicted, accuracy], feed_dict={X: x_data, Y: y_data})\n",
    "    print(\"\\nHypothesis: \", h, \"\\nCorrect (Y): \", c, \"\\nAccuracy: \", a)"
   ]
  },
  {
   "cell_type": "code",
   "execution_count": null,
   "metadata": {},
   "outputs": [],
   "source": []
  }
 ],
 "metadata": {
  "kernelspec": {
   "display_name": "Python 3",
   "language": "python",
   "name": "python3"
  },
  "language_info": {
   "codemirror_mode": {
    "name": "ipython",
    "version": 3
   },
   "file_extension": ".py",
   "mimetype": "text/x-python",
   "name": "python",
   "nbconvert_exporter": "python",
   "pygments_lexer": "ipython3",
   "version": "3.6.6"
  }
 },
 "nbformat": 4,
 "nbformat_minor": 2
}
